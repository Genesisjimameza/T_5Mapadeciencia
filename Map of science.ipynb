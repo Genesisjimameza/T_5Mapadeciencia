{
 "cells": [
  {
   "cell_type": "markdown",
   "id": "a3cf8e32",
   "metadata": {},
   "source": [
    "# Universidad Regional Amozónica Ikiam\n",
    "## Bioinformatica G01\n",
    "### Estudiante: Génesis Jima\n",
    "### Solución del deber mapa de ciencia"
   ]
  },
  {
   "cell_type": "code",
   "execution_count": 118,
   "id": "57c59917",
   "metadata": {},
   "outputs": [],
   "source": [
    "import re\n",
    "import csv\n",
    "import pandas as pd\n",
    "import matplotlib.pyplot as pltb\n",
    "import itertools"
   ]
  },
  {
   "cell_type": "code",
   "execution_count": 119,
   "id": "b183daba",
   "metadata": {},
   "outputs": [],
   "source": [
    "import re\n",
    "with open('./pubmed-plantmetab-set.txt',\"r\", encoding='utf-8-sig') as f:\n",
    "    my_doc = f.read()\n",
    "    my_doc = re.sub(r'\\n\\s{6}', ' ', my_doc)"
   ]
  },
  {
   "cell_type": "code",
   "execution_count": 120,
   "id": "26214c44",
   "metadata": {},
   "outputs": [],
   "source": [
    "doc1 = re.findall(r\"\\,\\s[A-Z]+[A-z]{2,11}\\.\", my_doc) "
   ]
  },
  {
   "cell_type": "code",
   "execution_count": 121,
   "id": "2fc6e714",
   "metadata": {
    "scrolled": true
   },
   "outputs": [
    {
     "name": "stdout",
     "output_type": "stream",
     "text": [
      "[', Abt.', ', Acad.', ', Africa.', ', Agri.', ', Agric.', ', Algeria.', ', Alt.', ', Alternaria.', ', Amman.', ', Ankara.', ', Apdo.', ', Apocynaceae.', ', Apt.', ', Argentina.', ', Argentina].', ', Arkel.', ', AroG.', ', Australia.', ', Austria.', ', Avd.', ', Avda.', ', Ave.', ', Avenida.', ', Awka.', ', Baegjoong.', ', Bahrain.', ', Bangladesh.', ', Barbados.', ', Barbara.', ', Barbarastr.', ', Barcelona.', ', Basel.', ', Bat.', ', Beijing.', ', Belarus.', ', Belgium.', ', Belgrade.', ', Benin.', ', Benth.', ', Billrothstr.', ', Biskopsg.', ', Bldg.', ', Blvd.', ', Bobigny.', ', Bolivia.', ', Brasil.', ', Bratislava.', ', Brazil.', ', Bul.', ', Bulgaria.', ', Burm.', ', CAS.', ', CSIC.', ', Caatinga.', ', Cagliari.', ', Caixa.', ', California.', ', Calz.', ', Camerino.', ', Cameroon.', ', Canada.', ', Chad.', ', Chile.', ', China.', ', ChvE.', ', Col.', ', Colombia.', ', Colombia].', ', Colorado.', ', Con.', ', Cork.', ', Corrensstr.', ', CrIPR.', ', Cra.', ', CrmA.', ', Croatia.', ', Ctra.', ', Cuba.', ', Cyprus.', ', Czechia.', ', Del.', ', Deleg.', ', Denmark.', ', Dep.', ', Dept.', ', Depto.', ', Deutschland.', ', Djibouti.', ', Dorfstr.', ', Dorotheenstr.', ', Dpto.', ', Ecuador.', ', Edo.', ', Egypt.', ', England.', ', Eniwa.', ', Enterobacter.', ', Esq.', ', Estonia.', ', Ethiopia.']\n"
     ]
    }
   ],
   "source": [
    "unique_doc =list(set(doc1))\n",
    "unique_doc.sort()\n",
    "a = unique_doc\n",
    "print(a[:100])"
   ]
  },
  {
   "cell_type": "code",
   "execution_count": 122,
   "id": "bdf71666",
   "metadata": {},
   "outputs": [],
   "source": [
    "b = unique_doc"
   ]
  },
  {
   "cell_type": "code",
   "execution_count": 123,
   "id": "a9e7baaa",
   "metadata": {},
   "outputs": [
    {
     "name": "stdout",
     "output_type": "stream",
     "text": [
      "\n",
      "Lista de países :  [', Abt.', ', Acad.', ', Africa.', ', Agri.', ', Agric.', ', Algeria.', ', Alt.', ', Alternaria.', ', Amman.', ', Ankara.', ', Apdo.', ', Apocynaceae.', ', Apt.', ', Argentina.', ', Argentina].', ', Arkel.', ', AroG.', ', Australia.', ', Austria.', ', Avd.', ', Avda.', ', Ave.', ', Avenida.', ', Awka.', ', Baegjoong.', ', Bahrain.', ', Bangladesh.', ', Barbados.', ', Barbara.', ', Barbarastr.', ', Barcelona.', ', Basel.', ', Bat.', ', Beijing.', ', Belarus.', ', Belgium.', ', Belgrade.', ', Benin.', ', Benth.', ', Billrothstr.', ', Biskopsg.', ', Bldg.', ', Blvd.', ', Bobigny.', ', Bolivia.', ', Brasil.', ', Bratislava.', ', Brazil.', ', Bul.', ', Bulgaria.', ', Burm.', ', CAS.', ', CSIC.', ', Caatinga.', ', Cagliari.', ', Caixa.', ', California.', ', Calz.', ', Camerino.', ', Cameroon.', ', Canada.', ', Chad.', ', Chile.', ', China.', ', ChvE.', ', Col.', ', Colombia.', ', Colombia].', ', Colorado.', ', Con.', ', Cork.', ', Corrensstr.', ', CrIPR.', ', Cra.', ', CrmA.', ', Croatia.', ', Ctra.', ', Cuba.', ', Cyprus.', ', Czechia.', ', Del.', ', Deleg.', ', Denmark.', ', Dep.', ', Dept.', ', Depto.', ', Deutschland.', ', Djibouti.', ', Dorfstr.', ', Dorotheenstr.', ', Dpto.', ', Ecuador.', ', Edo.', ', Egypt.', ', England.', ', Eniwa.', ', Enterobacter.', ', Esq.', ', Estonia.', ', Ethiopia.', ', Eur.', ', FAUBA.', ', FRG.', ', Fac.', ', Faisalabad.', ', Finland.', ', France.', ', Gabon.', ', Geb.', ', Gen.', ', Georgia.', ', Germany.', ', Ghana.', ', Govt.', ', Gral.', ', Greece.', ', Grisebachstr.', ', Gto.', ', Guatemala.', ', Gyrhofstr.', ', Haldwani.', ', Hamburg.', ', Heidelberg.', ', Herts.', ', Hungary.', ', Ibadan.', ', Iceland.', ', Illinois.', ', Inc.', ', India.', ', Indonesia.', ', Inst.', ', Iran.', ', Iraq.', ', Ireland.', ', Israel.', ', Istanbul.', ', Ita.', ', Italia.', ', Italy.', ', Jal.', ', Jamaica.', ', Japan.', ', Jordan.', ', KCl.', ', KSA.', ', Kashmir.', ', Kazakhstan.', ', Kazan.', ', Kenya.', ', Kerala.', ', Kerman.', ', Kgs.', ', Korea.', ', Kuwait.', ', Kwak.', ', LLC.', ', Lab.', ', Latvia.', ', Lebanon.', ', Lebed.', ', Leeds.', ', Lessingstr.', ', Libya.', ', Linn.', ', Lithuania.', ', Loc.', ', Ltd.', ', Luxembourg.', ', Macao.', ', Macau.', ', Madagascar.', ', Madrid.', ', Malaysia.', ', Manhattan.', ', Manitoba.', ', Mardan.', ', Marienstr.', ', Martinsried.', ', Maryland.', ', Mashhad.', ', Mass.', ', Mauritius.', ', Mexico.', ', Milan.', ', Minnesota.', ', Missouri.', ', Mongolia.', ', Montana.', ', Morocco.', ', Myanmar.', ', NMR.', ', Namibia.', ', Nat.', ', Natl.', ', Nedlands.', ', Nepal.', ', Netherlands.', ', Nicaragua.', ', Nigeria.', ', Norway.', ', OHUSA.', ', Oct.', ', Oman.', ', Ont.', ', Ontario.', ', Oslo.', ', Pahang.', ', Pakistan.', ', Palestine.', ', Panama.', ', Paraguay.', ', Parma.', ', Peru.', ', Philippines.', ', Pimozide.', ', Pisa.', ', Polan.', ', Poland.', ', Portici.', ', Portugal.', ', Praha.', ', Prof.', ', Prosp.', ', PubMed.', ', Pune.', ', Pungsannamul.', ', Pvt.', ', Qatar.', ', Qro.', ', RDA.', ', ROC.', ', ReSpect.', ', Robert.', ', Rod.', ', Roma.', ', Romania.', ', Rome.', ', Russia.', ', Rwanda.', ', SAU.', ', SDG.', ', Sask.', ', Schorenstr.', ', Scopus.', ', Scotland.', ', Senegal.', ', Serbia.', ', Sez.', ', Shahid.', ', Singapore.', ', Slovakia.', ', Slovenia.', ', Spain.', ', Spemannstr.', ', Spielmannstr.', ', Spl.', ', Steinstr.', ', Sudan.', ', Sweden.', ', Switzerland.', ', Syria.', ', Taiwan.', ', Tanzania.', ', Tehran.', ', Tex.', ', Texas.', ', Thailand.', ', Tianjin.', ', Tiankuizi.', ', Townsville.', ', Trichoderma.', ', Tunisia.', ', Tunisie.', ', Turkey.', ', Typhonium.', ', UAE.', ', UFPR.', ', UNAM.', ', USA.', ', Udelar.', ', Ufra.', ', Uganda.', ', Ukraine.', ', Univ.', ', Uruguay.', ', Uzbekistan.', ', Vas.', ', Venezuela.', ', Venezuela].', ', Vic.', ', Vietnam.', ', WBPH.', ', Weinheim.', ', Wisconsin.', ', Wroclaw.', ', Yemen.', ', Zurich.']\n"
     ]
    }
   ],
   "source": [
    "print() \n",
    "print('Lista de países : ', b)\n"
   ]
  },
  {
   "cell_type": "code",
   "execution_count": 124,
   "id": "b13938bc",
   "metadata": {},
   "outputs": [
    {
     "name": "stdout",
     "output_type": "stream",
     "text": [
      "\n",
      "Lista final:  ['Abt', 'Acad', 'Africa', 'Agri', 'Agric', 'Algeria', 'Alt', 'Alternaria', 'Amman', 'Ankara', 'Apdo', 'Apocynaceae', 'Apt', 'Argentina', 'Argentina]', 'Arkel', 'AroG', 'Australia', 'Austria', 'Avd', 'Avda', 'Ave', 'Avenida', 'Awka', 'Baegjoong', 'Bahrain', 'Bangladesh', 'Barbados', 'Barbara', 'Barbarastr', 'Barcelona', 'Basel', 'Bat', 'Beijing', 'Belarus', 'Belgium', 'Belgrade', 'Benin', 'Benth', 'Billrothstr', 'Biskopsg', 'Bldg', 'Blvd', 'Bobigny', 'Bolivia', 'Brasil', 'Bratislava', 'Brazil', 'Bul', 'Bulgaria', 'Burm', 'CAS', 'CSIC', 'Caatinga', 'Cagliari', 'Caixa', 'California', 'Calz', 'Camerino', 'Cameroon', 'Canada', 'Chad', 'Chile', 'China', 'ChvE', 'Col', 'Colombia', 'Colombia]', 'Colorado', 'Con', 'Cork', 'Corrensstr', 'CrIPR', 'Cra', 'CrmA', 'Croatia', 'Ctra', 'Cuba', 'Cyprus', 'Czechia', 'Del', 'Deleg', 'Denmark', 'Dep', 'Dept', 'Depto', 'Deutschland', 'Djibouti', 'Dorfstr', 'Dorotheenstr', 'Dpto', 'Ecuador', 'Edo', 'Egypt', 'England', 'Eniwa', 'Enterobacter', 'Esq', 'Estonia', 'Ethiopia', 'Eur', 'FAUBA', 'FRG', 'Fac', 'Faisalabad', 'Finland', 'France', 'Gabon', 'Geb', 'Gen', 'Georgia', 'Germany', 'Ghana', 'Govt', 'Gral', 'Greece', 'Grisebachstr', 'Gto', 'Guatemala', 'Gyrhofstr', 'Haldwani', 'Hamburg', 'Heidelberg', 'Herts', 'Hungary', 'Ibadan', 'Iceland', 'Illinois', 'Inc', 'India', 'Indonesia', 'Inst', 'Iran', 'Iraq', 'Ireland', 'Israel', 'Istanbul', 'Ita', 'Italia', 'Italy', 'Jal', 'Jamaica', 'Japan', 'Jordan', 'KCl', 'KSA', 'Kashmir', 'Kazakhstan', 'Kazan', 'Kenya', 'Kerala', 'Kerman', 'Kgs', 'Korea', 'Kuwait', 'Kwak', 'LLC', 'Lab', 'Latvia', 'Lebanon', 'Lebed', 'Leeds', 'Lessingstr', 'Libya', 'Linn', 'Lithuania', 'Loc', 'Ltd', 'Luxembourg', 'Macao', 'Macau', 'Madagascar', 'Madrid', 'Malaysia', 'Manhattan', 'Manitoba', 'Mardan', 'Marienstr', 'Martinsried', 'Maryland', 'Mashhad', 'Mass', 'Mauritius', 'Mexico', 'Milan', 'Minnesota', 'Missouri', 'Mongolia', 'Montana', 'Morocco', 'Myanmar', 'NMR', 'Namibia', 'Nat', 'Natl', 'Nedlands', 'Nepal', 'Netherlands', 'Nicaragua', 'Nigeria', 'Norway', 'OHUSA', 'Oct', 'Oman', 'Ont', 'Ontario', 'Oslo', 'Pahang', 'Pakistan', 'Palestine', 'Panama', 'Paraguay', 'Parma', 'Peru', 'Philippines', 'Pimozide', 'Pisa', 'Polan', 'Poland', 'Portici', 'Portugal', 'Praha', 'Prof', 'Prosp', 'PubMed', 'Pune', 'Pungsannamul', 'Pvt', 'Qatar', 'Qro', 'RDA', 'ROC', 'ReSpect', 'Robert', 'Rod', 'Roma', 'Romania', 'Rome', 'Russia', 'Rwanda', 'SAU', 'SDG', 'Sask', 'Schorenstr', 'Scopus', 'Scotland', 'Senegal', 'Serbia', 'Sez', 'Shahid', 'Singapore', 'Slovakia', 'Slovenia', 'Spain', 'Spemannstr', 'Spielmannstr', 'Spl', 'Steinstr', 'Sudan', 'Sweden', 'Switzerland', 'Syria', 'Taiwan', 'Tanzania', 'Tehran', 'Tex', 'Texas', 'Thailand', 'Tianjin', 'Tiankuizi', 'Townsville', 'Trichoderma', 'Tunisia', 'Tunisie', 'Turkey', 'Typhonium', 'UAE', 'UFPR', 'UNAM', 'USA', 'Udelar', 'Ufra', 'Uganda', 'Ukraine', 'Univ', 'Uruguay', 'Uzbekistan', 'Vas', 'Venezuela', 'Venezuela]', 'Vic', 'Vietnam', 'WBPH', 'Weinheim', 'Wisconsin', 'Wroclaw', 'Yemen', 'Zurich']\n"
     ]
    }
   ],
   "source": [
    "c = \"\".join(b)\n",
    "d = c.split(\", \")\n",
    "e = \"\".join(d)\n",
    "f = e.split(\".\")\n",
    "f.remove(\"\")\n",
    "g = f\n",
    "print()\n",
    "print('Lista final: ', g)"
   ]
  },
  {
   "cell_type": "code",
   "execution_count": 125,
   "id": "a92b5210",
   "metadata": {},
   "outputs": [
    {
     "data": {
      "text/html": [
       "<div>\n",
       "<style scoped>\n",
       "    .dataframe tbody tr th:only-of-type {\n",
       "        vertical-align: middle;\n",
       "    }\n",
       "\n",
       "    .dataframe tbody tr th {\n",
       "        vertical-align: top;\n",
       "    }\n",
       "\n",
       "    .dataframe thead th {\n",
       "        text-align: right;\n",
       "    }\n",
       "</style>\n",
       "<table border=\"1\" class=\"dataframe\">\n",
       "  <thead>\n",
       "    <tr style=\"text-align: right;\">\n",
       "      <th></th>\n",
       "      <th>country</th>\n",
       "      <th>latitude</th>\n",
       "      <th>longitude</th>\n",
       "      <th>name</th>\n",
       "    </tr>\n",
       "  </thead>\n",
       "  <tbody>\n",
       "    <tr>\n",
       "      <th>0</th>\n",
       "      <td>AD</td>\n",
       "      <td>42.546245</td>\n",
       "      <td>1.601554</td>\n",
       "      <td>Andorra</td>\n",
       "    </tr>\n",
       "    <tr>\n",
       "      <th>1</th>\n",
       "      <td>AE</td>\n",
       "      <td>23.424076</td>\n",
       "      <td>53.847818</td>\n",
       "      <td>United Arab Emirates</td>\n",
       "    </tr>\n",
       "    <tr>\n",
       "      <th>2</th>\n",
       "      <td>AF</td>\n",
       "      <td>33.939110</td>\n",
       "      <td>67.709953</td>\n",
       "      <td>Afghanistan</td>\n",
       "    </tr>\n",
       "    <tr>\n",
       "      <th>3</th>\n",
       "      <td>AG</td>\n",
       "      <td>17.060816</td>\n",
       "      <td>-61.796428</td>\n",
       "      <td>Antigua and Barbuda</td>\n",
       "    </tr>\n",
       "    <tr>\n",
       "      <th>4</th>\n",
       "      <td>AI</td>\n",
       "      <td>18.220554</td>\n",
       "      <td>-63.068615</td>\n",
       "      <td>Anguilla</td>\n",
       "    </tr>\n",
       "    <tr>\n",
       "      <th>5</th>\n",
       "      <td>AL</td>\n",
       "      <td>41.153332</td>\n",
       "      <td>20.168331</td>\n",
       "      <td>Albania</td>\n",
       "    </tr>\n",
       "    <tr>\n",
       "      <th>6</th>\n",
       "      <td>AM</td>\n",
       "      <td>40.069099</td>\n",
       "      <td>45.038189</td>\n",
       "      <td>Armenia</td>\n",
       "    </tr>\n",
       "    <tr>\n",
       "      <th>7</th>\n",
       "      <td>AN</td>\n",
       "      <td>12.226079</td>\n",
       "      <td>-69.060087</td>\n",
       "      <td>Netherlands Antilles</td>\n",
       "    </tr>\n",
       "    <tr>\n",
       "      <th>8</th>\n",
       "      <td>AO</td>\n",
       "      <td>-11.202692</td>\n",
       "      <td>17.873887</td>\n",
       "      <td>Angola</td>\n",
       "    </tr>\n",
       "    <tr>\n",
       "      <th>9</th>\n",
       "      <td>AQ</td>\n",
       "      <td>-75.250973</td>\n",
       "      <td>-0.071389</td>\n",
       "      <td>Antarctica</td>\n",
       "    </tr>\n",
       "  </tbody>\n",
       "</table>\n",
       "</div>"
      ],
      "text/plain": [
       "  country   latitude  longitude                  name\n",
       "0      AD  42.546245   1.601554               Andorra\n",
       "1      AE  23.424076  53.847818  United Arab Emirates\n",
       "2      AF  33.939110  67.709953           Afghanistan\n",
       "3      AG  17.060816 -61.796428   Antigua and Barbuda\n",
       "4      AI  18.220554 -63.068615              Anguilla\n",
       "5      AL  41.153332  20.168331               Albania\n",
       "6      AM  40.069099  45.038189               Armenia\n",
       "7      AN  12.226079 -69.060087  Netherlands Antilles\n",
       "8      AO -11.202692  17.873887                Angola\n",
       "9      AQ -75.250973  -0.071389            Antarctica"
      ]
     },
     "execution_count": 125,
     "metadata": {},
     "output_type": "execute_result"
    }
   ],
   "source": [
    "data = pd.read_csv('./cordenadas de paises.csv', engine='python', skipfooter=3)\n",
    "data.head(10)"
   ]
  },
  {
   "cell_type": "code",
   "execution_count": 126,
   "id": "8081268a",
   "metadata": {},
   "outputs": [
    {
     "data": {
      "text/html": [
       "<div>\n",
       "<style scoped>\n",
       "    .dataframe tbody tr th:only-of-type {\n",
       "        vertical-align: middle;\n",
       "    }\n",
       "\n",
       "    .dataframe tbody tr th {\n",
       "        vertical-align: top;\n",
       "    }\n",
       "\n",
       "    .dataframe thead th {\n",
       "        text-align: right;\n",
       "    }\n",
       "</style>\n",
       "<table border=\"1\" class=\"dataframe\">\n",
       "  <thead>\n",
       "    <tr style=\"text-align: right;\">\n",
       "      <th></th>\n",
       "      <th>country</th>\n",
       "      <th>latitude</th>\n",
       "      <th>longitude</th>\n",
       "      <th>name</th>\n",
       "    </tr>\n",
       "  </thead>\n",
       "  <tbody>\n",
       "    <tr>\n",
       "      <th>10</th>\n",
       "      <td>AR</td>\n",
       "      <td>-38.416097</td>\n",
       "      <td>-63.616672</td>\n",
       "      <td>Argentina</td>\n",
       "    </tr>\n",
       "    <tr>\n",
       "      <th>12</th>\n",
       "      <td>AT</td>\n",
       "      <td>47.516231</td>\n",
       "      <td>14.550072</td>\n",
       "      <td>Austria</td>\n",
       "    </tr>\n",
       "    <tr>\n",
       "      <th>13</th>\n",
       "      <td>AU</td>\n",
       "      <td>-25.274398</td>\n",
       "      <td>133.775136</td>\n",
       "      <td>Australia</td>\n",
       "    </tr>\n",
       "    <tr>\n",
       "      <th>17</th>\n",
       "      <td>BB</td>\n",
       "      <td>13.193887</td>\n",
       "      <td>-59.543198</td>\n",
       "      <td>Barbados</td>\n",
       "    </tr>\n",
       "    <tr>\n",
       "      <th>18</th>\n",
       "      <td>BD</td>\n",
       "      <td>23.684994</td>\n",
       "      <td>90.356331</td>\n",
       "      <td>Bangladesh</td>\n",
       "    </tr>\n",
       "    <tr>\n",
       "      <th>19</th>\n",
       "      <td>BE</td>\n",
       "      <td>50.503887</td>\n",
       "      <td>4.469936</td>\n",
       "      <td>Belgium</td>\n",
       "    </tr>\n",
       "    <tr>\n",
       "      <th>21</th>\n",
       "      <td>BG</td>\n",
       "      <td>42.733883</td>\n",
       "      <td>25.485830</td>\n",
       "      <td>Bulgaria</td>\n",
       "    </tr>\n",
       "    <tr>\n",
       "      <th>22</th>\n",
       "      <td>BH</td>\n",
       "      <td>25.930414</td>\n",
       "      <td>50.637772</td>\n",
       "      <td>Bahrain</td>\n",
       "    </tr>\n",
       "    <tr>\n",
       "      <th>24</th>\n",
       "      <td>BJ</td>\n",
       "      <td>9.307690</td>\n",
       "      <td>2.315834</td>\n",
       "      <td>Benin</td>\n",
       "    </tr>\n",
       "    <tr>\n",
       "      <th>27</th>\n",
       "      <td>BO</td>\n",
       "      <td>-16.290154</td>\n",
       "      <td>-63.588653</td>\n",
       "      <td>Bolivia</td>\n",
       "    </tr>\n",
       "  </tbody>\n",
       "</table>\n",
       "</div>"
      ],
      "text/plain": [
       "   country   latitude   longitude        name\n",
       "10      AR -38.416097  -63.616672   Argentina\n",
       "12      AT  47.516231   14.550072     Austria\n",
       "13      AU -25.274398  133.775136   Australia\n",
       "17      BB  13.193887  -59.543198    Barbados\n",
       "18      BD  23.684994   90.356331  Bangladesh\n",
       "19      BE  50.503887    4.469936     Belgium\n",
       "21      BG  42.733883   25.485830    Bulgaria\n",
       "22      BH  25.930414   50.637772     Bahrain\n",
       "24      BJ   9.307690    2.315834       Benin\n",
       "27      BO -16.290154  -63.588653     Bolivia"
      ]
     },
     "execution_count": 126,
     "metadata": {},
     "output_type": "execute_result"
    }
   ],
   "source": [
    "name = data[data.name.isin(g)]\n",
    "name.head(10)"
   ]
  },
  {
   "cell_type": "code",
   "execution_count": 127,
   "id": "6aa27577",
   "metadata": {},
   "outputs": [
    {
     "data": {
      "text/html": [
       "<div>\n",
       "<style scoped>\n",
       "    .dataframe tbody tr th:only-of-type {\n",
       "        vertical-align: middle;\n",
       "    }\n",
       "\n",
       "    .dataframe tbody tr th {\n",
       "        vertical-align: top;\n",
       "    }\n",
       "\n",
       "    .dataframe thead th {\n",
       "        text-align: right;\n",
       "    }\n",
       "</style>\n",
       "<table border=\"1\" class=\"dataframe\">\n",
       "  <thead>\n",
       "    <tr style=\"text-align: right;\">\n",
       "      <th></th>\n",
       "      <th>country</th>\n",
       "      <th>latitude</th>\n",
       "      <th>longitude</th>\n",
       "      <th>name</th>\n",
       "    </tr>\n",
       "  </thead>\n",
       "  <tbody>\n",
       "    <tr>\n",
       "      <th>58</th>\n",
       "      <td>DZ</td>\n",
       "      <td>28.033886</td>\n",
       "      <td>1.659626</td>\n",
       "      <td>Algeria</td>\n",
       "    </tr>\n",
       "    <tr>\n",
       "      <th>10</th>\n",
       "      <td>AR</td>\n",
       "      <td>-38.416097</td>\n",
       "      <td>-63.616672</td>\n",
       "      <td>Argentina</td>\n",
       "    </tr>\n",
       "    <tr>\n",
       "      <th>13</th>\n",
       "      <td>AU</td>\n",
       "      <td>-25.274398</td>\n",
       "      <td>133.775136</td>\n",
       "      <td>Australia</td>\n",
       "    </tr>\n",
       "    <tr>\n",
       "      <th>12</th>\n",
       "      <td>AT</td>\n",
       "      <td>47.516231</td>\n",
       "      <td>14.550072</td>\n",
       "      <td>Austria</td>\n",
       "    </tr>\n",
       "    <tr>\n",
       "      <th>22</th>\n",
       "      <td>BH</td>\n",
       "      <td>25.930414</td>\n",
       "      <td>50.637772</td>\n",
       "      <td>Bahrain</td>\n",
       "    </tr>\n",
       "    <tr>\n",
       "      <th>18</th>\n",
       "      <td>BD</td>\n",
       "      <td>23.684994</td>\n",
       "      <td>90.356331</td>\n",
       "      <td>Bangladesh</td>\n",
       "    </tr>\n",
       "    <tr>\n",
       "      <th>17</th>\n",
       "      <td>BB</td>\n",
       "      <td>13.193887</td>\n",
       "      <td>-59.543198</td>\n",
       "      <td>Barbados</td>\n",
       "    </tr>\n",
       "    <tr>\n",
       "      <th>33</th>\n",
       "      <td>BY</td>\n",
       "      <td>53.709807</td>\n",
       "      <td>27.953389</td>\n",
       "      <td>Belarus</td>\n",
       "    </tr>\n",
       "    <tr>\n",
       "      <th>19</th>\n",
       "      <td>BE</td>\n",
       "      <td>50.503887</td>\n",
       "      <td>4.469936</td>\n",
       "      <td>Belgium</td>\n",
       "    </tr>\n",
       "    <tr>\n",
       "      <th>24</th>\n",
       "      <td>BJ</td>\n",
       "      <td>9.307690</td>\n",
       "      <td>2.315834</td>\n",
       "      <td>Benin</td>\n",
       "    </tr>\n",
       "  </tbody>\n",
       "</table>\n",
       "</div>"
      ],
      "text/plain": [
       "   country   latitude   longitude        name\n",
       "58      DZ  28.033886    1.659626     Algeria\n",
       "10      AR -38.416097  -63.616672   Argentina\n",
       "13      AU -25.274398  133.775136   Australia\n",
       "12      AT  47.516231   14.550072     Austria\n",
       "22      BH  25.930414   50.637772     Bahrain\n",
       "18      BD  23.684994   90.356331  Bangladesh\n",
       "17      BB  13.193887  -59.543198    Barbados\n",
       "33      BY  53.709807   27.953389     Belarus\n",
       "19      BE  50.503887    4.469936     Belgium\n",
       "24      BJ   9.307690    2.315834       Benin"
      ]
     },
     "execution_count": 127,
     "metadata": {},
     "output_type": "execute_result"
    }
   ],
   "source": [
    "paises = data[data.country.isin(g)]\n",
    "all_data =pd.concat([name,paises]).drop_duplicates().sort_values('name')\n",
    "all_data.head(10)"
   ]
  },
  {
   "cell_type": "code",
   "execution_count": 128,
   "id": "3bb8cb6d",
   "metadata": {},
   "outputs": [],
   "source": [
    "import matplotlib.pyplot as plt"
   ]
  },
  {
   "cell_type": "code",
   "execution_count": 129,
   "id": "380c757b",
   "metadata": {},
   "outputs": [
    {
     "data": {
      "image/png": "[encoded data removed]",
      "text/plain": [
       "<Figure size 1296x864 with 2 Axes>"
      ]
     },
     "metadata": {
      "needs_background": "light"
     },
     "output_type": "display_data"
    }
   ],
   "source": [
    "pltb.scatter(all_data.longitude, all_data.latitude, s=50, c=all_data.latitude)\n",
    "pltb.colorbar()\n",
    "ard = dict(arrowstyle=\"->\")\n",
    "\n",
    "pltb.annotate('Ucrania', xy = (31.16558,48.379433), \n",
    "               xytext = (31.16558,51), arrowprops= ard)\n",
    "\n",
    "pltb.annotate('EEUU', xy = (-95.712891, 37.09024), \n",
    "               xytext = (-95.712891, 40), arrowprops = ard)\n",
    "\n",
    "pltb.annotate('Brasil', xy = (-51.92528, -14.235004), \n",
    "               xytext = (-51.92528, -11), arrowprops= ard)\n",
    "pltb.annotate('Australia', xy = (133.775136, -25.274398), \n",
    "               xytext = (133.775136, -22), arrowprops= ard)\n",
    "\n",
    "pltb.annotate('Noruega', xy = (8.468946, 60.472024), \n",
    "               xytext = (8.468946, 63), arrowprops= ard)\n",
    "\n",
    "pltb.annotate('China', xy = (104.195397, 35.86166), \n",
    "               xytext = (104.195397, 39), arrowprops= ard)\n",
    "\n",
    "params = pltb.gcf()\n",
    "plSize = params.get_size_inches()\n",
    "params.set_size_inches( (plSize[0] * 3, plSize[1] * 3) )\n",
    "\n",
    "pltb.savefig(\"Map of Science.png\")"
   ]
  },
  {
   "cell_type": "code",
   "execution_count": null,
   "id": "8f652422",
   "metadata": {},
   "outputs": [],
   "source": []
  }
 ],
 "metadata": {
  "kernelspec": {
   "display_name": "Python 3",
   "language": "python",
   "name": "python3"
  },
  "language_info": {
   "codemirror_mode": {
    "name": "ipython",
    "version": 3
   },
   "file_extension": ".py",
   "mimetype": "text/x-python",
   "name": "python",
   "nbconvert_exporter": "python",
   "pygments_lexer": "ipython3",
   "version": "3.8.8"
  }
 },
 "nbformat": 4,
 "nbformat_minor": 5
}
